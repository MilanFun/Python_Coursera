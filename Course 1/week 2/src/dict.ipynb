{
 "cells": [
  {
   "cell_type": "code",
   "execution_count": 9,
   "metadata": {},
   "outputs": [],
   "source": [
    "import this"
   ]
  },
  {
   "cell_type": "code",
   "execution_count": 10,
   "metadata": {},
   "outputs": [],
   "source": [
    "zen = \"\"\"The Zen of Python, by Tim Peters\n",
    "\n",
    "Beautiful is better than ugly.\n",
    "Explicit is better than implicit.\n",
    "Simple is better than complex.\n",
    "Complex is better than complicated.\n",
    "Flat is better than nested.\n",
    "Sparse is better than dense.\n",
    "Readability counts.\n",
    "Special cases aren't special enough to break the rules.\n",
    "Although practicality beats purity.\n",
    "Errors should never pass silently.\n",
    "Unless explicitly silenced.\n",
    "In the face of ambiguity, refuse the temptation to guess.\n",
    "There should be one-- and preferably only one --obvious way to do it.\n",
    "Although that way may not be obvious at first unless you're Dutch.\n",
    "Now is better than never.\n",
    "Although never is often better than *right* now.\n",
    "If the implementation is hard to explain, it's a bad idea.\n",
    "If the implementation is easy to explain, it may be a good idea.\n",
    "Namespaces are one honking great idea -- let's do more of those!\"\"\""
   ]
  },
  {
   "cell_type": "code",
   "execution_count": 21,
   "metadata": {},
   "outputs": [
    {
     "name": "stdout",
     "output_type": "stream",
     "text": [
      "{'the': 5, 'zen': 0, 'of': 2, 'python': 0, 'by': 0, 'tim': 0, 'peters': 0, 'beautiful': 0, 'is': 9, 'better': 7, 'than': 7, 'ugly': 0, 'explicit': 0, 'implicit': 0, 'simple': 0, 'complex': 1, 'complicated': 0, 'flat': 0, 'nested': 0, 'sparse': 0, 'dense': 0, 'readability': 0, 'counts': 0, 'special': 1, 'cases': 0, \"aren't\": 0, 'enough': 0, 'to': 4, 'break': 0, 'rules': 0, 'although': 2, 'practicality': 0, 'beats': 0, 'purity': 0, 'errors': 0, 'should': 1, 'never': 2, 'pass': 0, 'silently': 0, 'unless': 1, 'explicitly': 0, 'silenced': 0, 'in': 0, 'face': 0, 'ambiguity': 0, 'refuse': 0, 'temptation': 0, 'guess': 0, 'there': 0, 'be': 2, 'one': 2, 'and': 0, 'preferably': 0, 'only': 0, 'obvious': 1, 'way': 1, 'do': 1, 'it': 1, 'that': 0, 'may': 1, 'not': 0, 'at': 0, 'first': 0, \"you're\": 0, 'dutch': 0, 'now': 1, 'often': 0, '*right*': 0, 'if': 1, 'implementation': 1, 'hard': 0, 'explain': 1, \"it's\": 0, 'a': 1, 'bad': 0, 'idea': 2, 'easy': 0, 'good': 0, 'namespaces': 0, 'are': 0, 'honking': 0, 'great': 0, '': 0, \"let's\": 0, 'more': 0, 'those': 0}\n"
     ]
    }
   ],
   "source": [
    "zen_map = dict()\n",
    "\n",
    "for word in zen.split():\n",
    "    cleaned_word = word.strip('.,-!').lower()\n",
    "    if cleaned_word not in zen_map:\n",
    "        zen_map[cleaned_word] = 0\n",
    "    else:\n",
    "        zen_map[cleaned_word] += 1\n",
    "        \n",
    "print(zen_map)"
   ]
  },
  {
   "cell_type": "code",
   "execution_count": 22,
   "metadata": {},
   "outputs": [
    {
     "name": "stdout",
     "output_type": "stream",
     "text": [
      "[('is', 9), ('better', 7), ('than', 7)]\n"
     ]
    }
   ],
   "source": [
    "import operator\n",
    "\n",
    "zen_items = zen_map.items()\n",
    "word_count_items = sorted(\n",
    "    zen_items, key=operator.itemgetter(1), reverse=True\n",
    ")\n",
    "\n",
    "print(word_count_items[:3])"
   ]
  },
  {
   "cell_type": "code",
   "execution_count": 23,
   "metadata": {},
   "outputs": [
    {
     "data": {
      "text/plain": [
       "[('is', 10), ('better', 8), ('than', 8)]"
      ]
     },
     "execution_count": 23,
     "metadata": {},
     "output_type": "execute_result"
    }
   ],
   "source": [
    "from collections import Counter\n",
    "\n",
    "cleaned_list = list()\n",
    "\n",
    "for word in zen.split():\n",
    "    cleaned_list.append(word.strip(',.-!').lower())\n",
    "    \n",
    "Counter(cleaned_list).most_common(3)"
   ]
  }
 ],
 "metadata": {
  "kernelspec": {
   "display_name": "Python 3",
   "language": "python",
   "name": "python3"
  },
  "language_info": {
   "codemirror_mode": {
    "name": "ipython",
    "version": 3
   },
   "file_extension": ".py",
   "mimetype": "text/x-python",
   "name": "python",
   "nbconvert_exporter": "python",
   "pygments_lexer": "ipython3",
   "version": "3.8.10"
  }
 },
 "nbformat": 4,
 "nbformat_minor": 4
}
